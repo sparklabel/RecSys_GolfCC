{
 "cells": [
  {
   "cell_type": "markdown",
   "metadata": {},
   "source": [
    "네이버 지도는 명칭/상호로 Geocode가 동작되지 않는다. 주소로만 작동.\n",
    "해결방안: \n",
    "1. 구글의 Geocode를 활용하여 좌표를 구함\n",
    "2. 얻어진 좌표로 네이버의 Direction 5를 활용하여 경로 찾기"
   ]
  },
  {
   "cell_type": "code",
   "execution_count": 1,
   "metadata": {},
   "outputs": [],
   "source": [
    "import googlemaps\n",
    "\n",
    "gmaps = googlemaps.Client(key={GOOGLE_API_KEY})"
   ]
  },
  {
   "cell_type": "code",
   "execution_count": 10,
   "metadata": {},
   "outputs": [
    {
     "name": "stdout",
     "output_type": "stream",
     "text": [
      "출발지 서울시청의 위도는 37.566535 입니다.\n",
      "출발지 서울시청의 경도는 126.9779692 입니다.\n",
      "도착지 스파크플러스 홍대입구의 위도는 37.5577182 입니다.\n",
      "도착지 스파크플러스 홍대입구의 경도는 126.9253904 입니다.\n"
     ]
    }
   ],
   "source": [
    "origin = input(\"출발지를 입력하세요: \")\n",
    "destination = input(\"도착지를 입력하세요: \")\n",
    "\n",
    "geocode_origin = gmaps.geocode((origin), language='ko') # 한국어 설정으로 결과값을 받아온다.\n",
    "geocode_destination = gmaps.geocode((destination), language='ko')\n",
    "\n",
    "latitude_origin  = geocode_origin[0][\"geometry\"][\"location\"][\"lat\"] # 리스트에서 위도 추출\n",
    "longitude_origin = geocode_origin[0][\"geometry\"][\"location\"][\"lng\"] # 리스트에서 경도 추출\n",
    "latitude_destination  = geocode_destination[0][\"geometry\"][\"location\"][\"lat\"] # 리스트에서 위도 추출\n",
    "longitude_destination = geocode_destination[0][\"geometry\"][\"location\"][\"lng\"] # 리스트에서 경도 추출\n",
    "\n",
    "print(f\"출발지 {origin}의 위도는 {latitude_origin} 입니다.\")\n",
    "print(f\"출발지 {origin}의 경도는 {longitude_origin} 입니다.\")\n",
    "print(f\"도착지 {destination}의 위도는 {latitude_destination} 입니다.\")\n",
    "print(f\"도착지 {destination}의 경도는 {longitude_destination} 입니다.\")"
   ]
  },
  {
   "cell_type": "code",
   "execution_count": 11,
   "metadata": {},
   "outputs": [
    {
     "name": "stdout",
     "output_type": "stream",
     "text": [
      "(126.9779692, 37.566535)\n",
      "(126.9253904, 37.5577182)\n"
     ]
    }
   ],
   "source": [
    "origin = (longitude_origin, latitude_origin)\n",
    "destination = (longitude_destination, latitude_destination)\n",
    "print(origin)\n",
    "print(destination)"
   ]
  },
  {
   "cell_type": "code",
   "execution_count": 16,
   "metadata": {},
   "outputs": [],
   "source": [
    "import json, urllib\n",
    "from urllib.request import Request, urlopen\n",
    "\n",
    "# *-- Directions 5 활용 코드 --*\n",
    "option = 'traoptimal'   # 최적 경로\n",
    "# option : 탐색옵션 [최대 3개, traoptimal(기본 옵션) \n",
    "# / trafast, tracomfort, traavoidtoll, traavoidcaronly]\n",
    "\n",
    "def get_optimal_route(start, goal) :\n",
    "    client_id = {NAVER_API_KEY_ID}\n",
    "    client_secret = {NAVER_API_KEY}\n",
    "    # start=/goal=/(waypoint=)/(option=) 순으로 request parameter 지정\n",
    "    url = f\"https://naveropenapi.apigw.ntruss.com/map-direction-15/v1/driving?&start={start[0]},{start[1]}&goal={goal[0]},{goal[1]}&option={option}\"\n",
    "    request = urllib.request.Request(url)\n",
    "    request.add_header('X-NCP-APIGW-API-KEY-ID', client_id)\n",
    "    request.add_header('X-NCP-APIGW-API-KEY', client_secret)\n",
    "    \n",
    "    response = urllib.request.urlopen(request)\n",
    "    res = response.getcode()\n",
    "    \n",
    "    if (res == 200) :\n",
    "        response_body = response.read().decode('utf-8')\n",
    "        return json.loads(response_body)\n",
    "            \n",
    "    else :\n",
    "        print('ERROR')\n",
    "        \n",
    "results = get_optimal_route(origin, destination)"
   ]
  },
  {
   "cell_type": "code",
   "execution_count": 18,
   "metadata": {},
   "outputs": [
    {
     "name": "stdout",
     "output_type": "stream",
     "text": [
      "{'message': '길찾기를 성공하였습니다.', 'option': 'traoptimal', 'total_distance': 6912, 'total_duration': 1670515, 'fares': {'toll': 0, 'taxi': 10200, 'fuel': 952}}\n",
      "-------------------------\n",
      "[(\"'세종대로20길' 방면으로 좌회전\", 48, 28.106), (\"'세종대로' 방면으로 우회전\", 33, 20.7), ('세종대로사거리에서 유턴', 253, 50.424), (\"시청에서 '신촌로터리' 방면으로 우회전\", 546, 116.753), (\"서소문고가에서 '신촌로터리, 이대입구' 방면으로 왼쪽 고가차도 진입\", 509, 109.467), (\"충정로사거리에서 '양화대교, 마포대교' 방면으로 좌회전\", 977, 146.617), (\"아현교차로에서 '양화대교, 신촌로터리' 방면으로 우회전\", 291, 41.71), (\"창전삼거리에서 '홍익대' 방면으로 우회전\", 2495, 668.785), (\"'와우산로' 방면으로 좌회전\", 372, 124.046), (\"홍익대앞에서 '홍대입구역' 방면으로 우회전\", 583, 143.202), (\"홍대입구역에서 '동교동삼거리' 방면으로 우회전\", 353, 143.532), ('우회전', 412, 63.666), ('목적지', 40, 13.507)]\n"
     ]
    }
   ],
   "source": [
    "# *-- 목적지까지의 종합 정보 추출(총 거리:meters, 총 소요시간: milliseconds, 요금 등) --*\n",
    "message = {\n",
    "    'message' : results['message'], # traoptimal은 option 에 따라 다르게 줄 것\n",
    "    'option' : list(results['route'].keys())[0],\n",
    "    'total_distance' : results['route']['traoptimal'][0]['summary']['distance'],\n",
    "    'total_duration' : results['route']['traoptimal'][0]['summary']['duration'],\n",
    "    'fares' : {'toll' : results['route']['traoptimal'][0]['summary']['tollFare'],\n",
    "              'taxi' : results['route']['traoptimal'][0]['summary']['taxiFare'],\n",
    "              'fuel' : results['route']['traoptimal'][0]['summary']['fuelPrice']}\n",
    "}\n",
    "print(message)\n",
    "print('-------------------------')\n",
    "\n",
    "# *-- 목적지까지의 guidence와 각각의 거리, 소요시간 정보 추출 --*\n",
    "temp = [ (guide['instructions'], guide['distance'] , guide['duration'] / 1000 ) \\\n",
    "for guide in results['route']['traoptimal'][0]['guide'] ]\n",
    "\n",
    "print(temp)"
   ]
  },
  {
   "cell_type": "code",
   "execution_count": 24,
   "metadata": {},
   "outputs": [
    {
     "name": "stdout",
     "output_type": "stream",
     "text": [
      "차량 이동 시 총 거리는 6.912km, 시간은 28분 입니다.\n"
     ]
    }
   ],
   "source": [
    "distance_km = message['total_distance']/1000    # m -> km 변환\n",
    "duration_minute = round(message['total_duration']/60000)    # miliseconds -> min 변환\n",
    "\n",
    "print(f\"차량 이동 시 총 거리는 {distance_km}km, 시간은 {duration_minute}분 입니다.\")"
   ]
  },
  {
   "cell_type": "markdown",
   "metadata": {},
   "source": [
    "#### 참고: NAVER reverse geocode"
   ]
  },
  {
   "cell_type": "code",
   "execution_count": null,
   "metadata": {},
   "outputs": [
    {
     "data": {
      "text/plain": [
       "{'status': {'code': 0, 'name': 'ok', 'message': 'done'},\n",
       " 'results': [{'name': 'addr',\n",
       "   'code': {'id': '1144012100', 'type': 'L', 'mappingId': '09440121'},\n",
       "   'region': {'area0': {'name': 'kr',\n",
       "     'coords': {'center': {'crs': '', 'x': 0.0, 'y': 0.0}}},\n",
       "    'area1': {'name': '서울특별시',\n",
       "     'coords': {'center': {'crs': 'EPSG:4326',\n",
       "       'x': 126.9783882,\n",
       "       'y': 37.5666103}},\n",
       "     'alias': '서울'},\n",
       "    'area2': {'name': '마포구',\n",
       "     'coords': {'center': {'crs': 'EPSG:4326',\n",
       "       'x': 126.901491,\n",
       "       'y': 37.5663245}}},\n",
       "    'area3': {'name': '동교동',\n",
       "     'coords': {'center': {'crs': 'EPSG:4326',\n",
       "       'x': 126.9251193,\n",
       "       'y': 37.557576}}},\n",
       "    'area4': {'name': '',\n",
       "     'coords': {'center': {'crs': '', 'x': 0.0, 'y': 0.0}}}},\n",
       "   'land': {'type': '1',\n",
       "    'number1': '167',\n",
       "    'number2': '24',\n",
       "    'addition0': {'type': '', 'value': ''},\n",
       "    'addition1': {'type': '', 'value': ''},\n",
       "    'addition2': {'type': '', 'value': ''},\n",
       "    'addition3': {'type': '', 'value': ''},\n",
       "    'addition4': {'type': '', 'value': ''},\n",
       "    'coords': {'center': {'crs': '', 'x': 0.0, 'y': 0.0}}}}]}"
      ]
     },
     "metadata": {},
     "output_type": "display_data"
    }
   ],
   "source": [
    "import requests\n",
    "import json\n",
    "\n",
    "# NCP 콘솔에서 복사한 클라이언트ID와 클라이언트Secret 값\n",
    "client_id = {NAVER_API_KEY_ID}\n",
    "client_secret = {NAVER_API_KEY}\n",
    "\n",
    "# 헤더\n",
    "headers = {\n",
    "    \"X-NCP-APIGW-API-KEY-ID\": client_id,\n",
    "    \"X-NCP-APIGW-API-KEY\": client_secret,\n",
    "}\n",
    "\n",
    "# 좌표 (경도 + 위도)\n",
    "coords_origin = str(longitude_origin)+\",\"+str(latitude_origin)\n",
    "# coords_destination = str(latitude_destination)+\",\"+str(longitude_destination)\n",
    "output = \"json\"\n",
    "orders = 'addr'\n",
    "endpoint = \"https://naveropenapi.apigw.ntruss.com/map-reversegeocode/v2/gc\"\n",
    "url_origin = f\"{endpoint}?coords={coords_origin}&output={output}&orders={orders}\"\n",
    "\n",
    "# 요청\n",
    "res = requests.get(url_origin, headers=headers)\n",
    "res.json()"
   ]
  }
 ],
 "metadata": {
  "kernelspec": {
   "display_name": "Python 3.8.8 ('base')",
   "language": "python",
   "name": "python3"
  },
  "language_info": {
   "codemirror_mode": {
    "name": "ipython",
    "version": 3
   },
   "file_extension": ".py",
   "mimetype": "text/x-python",
   "name": "python",
   "nbconvert_exporter": "python",
   "pygments_lexer": "ipython3",
   "version": "3.8.8"
  },
  "orig_nbformat": 4,
  "vscode": {
   "interpreter": {
    "hash": "fe7ebba13d22e50bad049fca6d83fdee710327362c6fa32d03f580ad5fc8a177"
   }
  }
 },
 "nbformat": 4,
 "nbformat_minor": 2
}
